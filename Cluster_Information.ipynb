{
 "cells": [
  {
   "cell_type": "code",
   "execution_count": 2,
   "metadata": {
    "collapsed": false,
    "deletable": true,
    "editable": true
   },
   "outputs": [],
   "source": [
    "import csv\n",
    "import pandas as pd\n",
    "import json\n",
    "\n",
    "brands = ['MerrillLynch','MorganStanley','CharlesSchwab','UBS','Fidelity', 'JPMorgan']\n",
    "\n",
    "for brand in brands:\n",
    "    exec(brand + \"Count = 0\")\n",
    "\n",
    "for i in range(0,20):\n",
    "    exec(\"cluster\" + str(i) + \"Count = 0\")\n",
    "    \n",
    "clusterInformation = []\n",
    "brandsOutput = []\n",
    "clustersOutput = []\n",
    "filesOutput = []\n",
    "\n",
    "with open('kmeans_clusters.csv', 'r') as csvfile:\n",
    "    clusterreader = csv.reader(csvfile, delimiter=' ', quotechar='|')\n",
    "    for row in clusterreader:\n",
    "        information = row[0].split(\",\")\n",
    "        imageName = information[0].rsplit(\"/\",1)[1]\n",
    "        filesOutput.append(imageName[:-8])\n",
    "        cluster = information[1]\n",
    "        clustersOutput.append(str(cluster))\n",
    "        exec(\"cluster\" + str(cluster) + \"Count += 1\")\n",
    "        \n",
    "        for brand in brands:\n",
    "            if brand.lower() in imageName.lower():\n",
    "                exec(brand + \"Count += 1\")\n",
    "                clusterInformation.append([brand, str(cluster)])\n",
    "                brandsOutput.append(brand)\n",
    "                \n",
    "cluster_dict = dict(zip(filesOutput, clustersOutput))\n",
    "brand_dict = dict(zip(filesOutput, brandsOutput))\n",
    "\n",
    "with open(\"image_to_cluster.json\", 'w') as outfile:\n",
    "    json.dump(cluster_dict, outfile)\n",
    "with open(\"image_to_brand.json\", 'w') as outfile:\n",
    "    json.dump(brand_dict, outfile)\n",
    "    \n",
    "brandCounts = pd.crosstab(index = [[item[0] for item in clusterInformation]],\n",
    "                              columns=\"count\")\n",
    "brandCounts.to_json(\"brand_counts.json\")\n",
    "\n",
    "clusterCounts = pd.crosstab(index = [[item[1] for item in clusterInformation]],\n",
    "                              columns=\"count\")\n",
    "clusterCounts.to_json(\"cluster_counts.json\")\n",
    "    \n",
    "clusterBrands = pd.crosstab(index = [[item[0] for item in clusterInformation]], columns = [[item[1] for item in clusterInformation]])\n",
    "clusterBrands.to_json(\"brand_clusters.json\")\n",
    "\n",
    "percentages = clusterBrands.iloc[: , : ].apply(lambda x: x / x.sum(), axis = 1)\n",
    "\n",
    "percentages.to_json(\"brand_percentages.json\")"
   ]
  },
  {
   "cell_type": "code",
   "execution_count": 80,
   "metadata": {
    "collapsed": false,
    "deletable": true,
    "editable": true
   },
   "outputs": [
    {
     "name": "stdout",
     "output_type": "stream",
     "text": [
      "252\n",
      "1332\n",
      "679\n",
      "col_0         0   1   10   11  12  13  14  15   16  17  18   19   2   3   4  \\\n",
      "row_0                                                                         \n",
      "Audi         12   3   11   32  10   6   4   5    0   7   1   15   2   2   3   \n",
      "BMW           1   0    0    2   0   0   0   1    2   0   0    0   1   0   0   \n",
      "Fiat          0   1    0    1   0   3   0   0    1   2   0    0   0   0   0   \n",
      "Ford          5   5   43   31  15  35   0  11   33  14  21   40  17   1   9   \n",
      "Mercedes      2   2    0    1   2   0   3   1    0   1   0    2   2   0   0   \n",
      "Opel         17   9    9   31  68  14  24  20   46  40   2   10  46   0  16   \n",
      "Peugeot     144  34   20   72  55  33  78  99   47  35  11   16  93  25  71   \n",
      "Renault      42  56   39   54  40  48   4  60  100  22  45   20  39   8  77   \n",
      "Volkswagen   29  34  219  152  48  68  12  33   82  51  69  151  43  30  48   \n",
      "\n",
      "col_0         5   6    7   8   9  \n",
      "row_0                             \n",
      "Audi          7   6   11  10   1  \n",
      "BMW           0   0    0   0   1  \n",
      "Fiat          0   1    0   0   0  \n",
      "Ford         19   9   64  30   4  \n",
      "Mercedes      0   0    7   2   1  \n",
      "Opel         63  39  152  38  35  \n",
      "Peugeot      37  47   69  52  47  \n",
      "Renault     123  65   95  22  76  \n",
      "Volkswagen   74  69   33  53  34  \n",
      "col_0              0         1        10        11        12        13  \\\n",
      "row_0                                                                    \n",
      "Audi        0.081081  0.020270  0.074324  0.216216  0.067568  0.040541   \n",
      "BMW         0.125000  0.000000  0.000000  0.250000  0.000000  0.000000   \n",
      "Fiat        0.000000  0.111111  0.000000  0.111111  0.000000  0.333333   \n",
      "Ford        0.012315  0.012315  0.105911  0.076355  0.036946  0.086207   \n",
      "Mercedes    0.076923  0.076923  0.000000  0.038462  0.076923  0.000000   \n",
      "Opel        0.025037  0.013255  0.013255  0.045655  0.100147  0.020619   \n",
      "Peugeot     0.132719  0.031336  0.018433  0.066359  0.050691  0.030415   \n",
      "Renault     0.040580  0.054106  0.037681  0.052174  0.038647  0.046377   \n",
      "Volkswagen  0.021772  0.025526  0.164414  0.114114  0.036036  0.051051   \n",
      "\n",
      "col_0             14        15        16        17        18        19  \\\n",
      "row_0                                                                    \n",
      "Audi        0.027027  0.033784  0.000000  0.047297  0.006757  0.101351   \n",
      "BMW         0.000000  0.125000  0.250000  0.000000  0.000000  0.000000   \n",
      "Fiat        0.000000  0.000000  0.111111  0.222222  0.000000  0.000000   \n",
      "Ford        0.000000  0.027094  0.081281  0.034483  0.051724  0.098522   \n",
      "Mercedes    0.115385  0.038462  0.000000  0.038462  0.000000  0.076923   \n",
      "Opel        0.035346  0.029455  0.067747  0.058910  0.002946  0.014728   \n",
      "Peugeot     0.071889  0.091244  0.043318  0.032258  0.010138  0.014747   \n",
      "Renault     0.003865  0.057971  0.096618  0.021256  0.043478  0.019324   \n",
      "Volkswagen  0.009009  0.024775  0.061562  0.038288  0.051802  0.113363   \n",
      "\n",
      "col_0              2         3         4         5         6         7  \\\n",
      "row_0                                                                    \n",
      "Audi        0.013514  0.013514  0.020270  0.047297  0.040541  0.074324   \n",
      "BMW         0.125000  0.000000  0.000000  0.000000  0.000000  0.000000   \n",
      "Fiat        0.000000  0.000000  0.000000  0.000000  0.111111  0.000000   \n",
      "Ford        0.041872  0.002463  0.022167  0.046798  0.022167  0.157635   \n",
      "Mercedes    0.076923  0.000000  0.000000  0.000000  0.000000  0.269231   \n",
      "Opel        0.067747  0.000000  0.023564  0.092784  0.057437  0.223859   \n",
      "Peugeot     0.085714  0.023041  0.065438  0.034101  0.043318  0.063594   \n",
      "Renault     0.037681  0.007729  0.074396  0.118841  0.062802  0.091787   \n",
      "Volkswagen  0.032282  0.022523  0.036036  0.055556  0.051802  0.024775   \n",
      "\n",
      "col_0              8         9  \n",
      "row_0                           \n",
      "Audi        0.067568  0.006757  \n",
      "BMW         0.000000  0.125000  \n",
      "Fiat        0.000000  0.000000  \n",
      "Ford        0.073892  0.009852  \n",
      "Mercedes    0.076923  0.038462  \n",
      "Opel        0.055965  0.051546  \n",
      "Peugeot     0.047926  0.043318  \n",
      "Renault     0.021256  0.073430  \n",
      "Volkswagen  0.039790  0.025526  \n"
     ]
    }
   ],
   "source": [
    "print(cluster0Count)\n",
    "print(VolkswagenCount)\n",
    "print(OpelCount)\n",
    "print(clusterBrands)\n",
    "print(percentages)"
   ]
  },
  {
   "cell_type": "code",
   "execution_count": 11,
   "metadata": {
    "collapsed": false,
    "deletable": true,
    "editable": true
   },
   "outputs": [
    {
     "name": "stdout",
     "output_type": "stream",
     "text": [
      "0\n"
     ]
    }
   ],
   "source": [
    "brands = ['Volkswagen','Peugeot','Opel','Ford','Renault', 'Audi','BMW','Fiat','Mercedes']\n",
    "\n",
    "for brand in brands:\n",
    "    exec(brand + \"Count = 0\")\n",
    "print(FiatCount)"
   ]
  }
 ],
 "metadata": {
  "kernelspec": {
   "display_name": "Python 3",
   "language": "python",
   "name": "python3"
  },
  "language_info": {
   "codemirror_mode": {
    "name": "ipython",
    "version": 3
   },
   "file_extension": ".py",
   "mimetype": "text/x-python",
   "name": "python",
   "nbconvert_exporter": "python",
   "pygments_lexer": "ipython3",
   "version": "3.5.2"
  }
 },
 "nbformat": 4,
 "nbformat_minor": 2
}
